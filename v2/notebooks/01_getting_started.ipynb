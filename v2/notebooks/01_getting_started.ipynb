{
 "cells": [
  {
   "cell_type": "markdown",
   "metadata": {},
   "source": [
    "# Getting Started with DuckDB 🦆\n",
    "\n",
    "Welcome to your first adventure with DuckDB! In this notebook, we'll:\n",
    "- Connect to our database\n",
    "- Explore the database structure\n",
    "- Write some basic queries\n",
    "- Insert new data\n",
    "- Set up helper functions for future notebooks\n",
    "\n",
    "DuckDB is an analytics-focused database that's perfect for learning SQL. It's fast, easy to use, and works great with Python!"
   ]
  },
  {
   "cell_type": "code",
   "execution_count": null,
   "metadata": {},
   "source": [
    "import duckdb\n",
    "import pandas as pd\n",
    "\n",
    "# Connect to our database\n",
    "conn = duckdb.connect('../data/entertainment.db')\n",
    "\n",
    "# This will make our query results look nice\n",
    "pd.set_option('display.max_columns', None)\n",
    "pd.set_option('display.max_rows', 20)"
   ]
  },
  {
   "cell_type": "markdown",
   "metadata": {},
   "source": [
    "## 🔍 Exploring Our Database\n",
    "\n",
    "Let's see what tables we have in our database. DuckDB provides some special commands for this:"
   ]
  },
  {
   "cell_type": "code",
   "execution_count": null,
   "metadata": {},
   "source": [
    "# List all tables in our database\n",
    "print(\"Available tables:\")\n",
    "conn.execute(\"SHOW TABLES\").df()"
   ]
  },
  {
   "cell_type": "markdown",
   "metadata": {},
   "source": [
    "Now let's look at the structure of our movies table:"
   ]
  },
  {
   "cell_type": "code",
   "execution_count": null,
   "metadata": {},
   "source": [
    "# Describe the movies table structure\n",
    "print(\"Movies table structure:\")\n",
    "conn.execute(\"DESCRIBE movies\").df()"
   ]
  },
  {
   "cell_type": "markdown",
   "metadata": {},
   "source": [
    "## 🛠️ Creating a Helper Function\n",
    "\n",
    "To make our future work easier, let's create a helper function to run queries:"
   ]
  },
  {
   "cell_type": "code",
   "execution_count": null,
   "metadata": {},
   "source": [
    "def run_query(query):\n",
    "    \"\"\"Execute a SQL query and return results as a pandas DataFrame\"\"\"\n",
    "    try:\n",
    "        result = conn.execute(query).df()\n",
    "        return result\n",
    "    except Exception as e:\n",
    "        print(f\"Error executing query: {str(e)}\")\n",
    "        return None"
   ]
  },
  {
   "cell_type": "markdown",
   "metadata": {},
   "source": [
    "## 🎯 Let's Try Some Queries!\n",
    "\n",
    "Now that we're set up, let's try some basic queries:"
   ]
  },
  {
   "cell_type": "code",
   "execution_count": null,
   "metadata": {},
   "source": [
    "# Let's see the first few movies\n",
    "query = \"\"\"\n",
    "SELECT *\n",
    "FROM movies\n",
    "LIMIT 5;\n",
    "\"\"\"\n",
    "\n",
    "run_query(query)"
   ]
  },
  {
   "cell_type": "markdown",
   "metadata": {},
   "source": [
    "## 🆕 Adding New Data\n",
    "\n",
    "Let's try adding a new movie to our database:"
   ]
  },
  {
   "cell_type": "code",
   "execution_count": null,
   "metadata": {},
   "source": [
    "# Insert a new movie\n",
    "insert_query = \"\"\"\n",
    "INSERT INTO movies (title, release_year, genre, director, rating)\n",
    "VALUES ('The Super Mario Bros. Movie', 2023, 'Animation', 'Aaron Horvath', 7.1);\n",
    "\"\"\"\n",
    "\n",
    "conn.execute(insert_query)\n",
    "\n",
    "# Let's verify it was added\n",
    "verify_query = \"\"\"\n",
    "SELECT *\n",
    "FROM movies\n",
    "WHERE title = 'The Super Mario Bros. Movie';\n",
    "\"\"\"\n",
    "\n",
    "run_query(verify_query)"
   ]
  },
  {
   "cell_type": "markdown",
   "metadata": {},
   "source": [
    "## 📊 Quick Database Stats\n",
    "\n",
    "Let's get some basic statistics about our database:"
   ]
  },
  {
   "cell_type": "code",
   "execution_count": null,
   "metadata": {},
   "source": [
    "# Count movies by genre\n",
    "stats_query = \"\"\"\n",
    "SELECT genre, COUNT(*) as movie_count\n",
    "FROM movies\n",
    "GROUP BY genre\n",
    "ORDER BY movie_count DESC;\n",
    "\"\"\"\n",
    "\n",
    "run_query(stats_query)"
   ]
  },
  {
   "cell_type": "markdown",
   "metadata": {},
   "source": [
    "## 🎉 Great Start!\n",
    "\n",
    "You've learned how to:\n",
    "- Connect to a DuckDB database\n",
    "- Explore database structure\n",
    "- Run basic queries\n",
    "- Insert new data\n",
    "- Use helper functions\n",
    "\n",
    "DuckDB Features We Used:\n",
    "- `SHOW TABLES`: Lists all tables\n",
    "- `DESCRIBE`: Shows table structure\n",
    "- Basic SQL commands (SELECT, INSERT)\n",
    "- Integration with pandas DataFrames\n",
    "\n",
    "In the next notebook, we'll dive deeper into writing more complex queries!"
   ]
  }
 ],
 "metadata": {
  "kernelspec": {
   "display_name": "Python 3",
   "language": "python",
   "name": "python3"
  }
 }
}