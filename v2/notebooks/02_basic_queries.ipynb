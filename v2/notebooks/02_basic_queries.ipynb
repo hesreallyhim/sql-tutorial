{
 "cells": [
  {
   "cell_type": "markdown",
   "metadata": {},
   "source": [
    "# Basic SQL Queries with DuckDB\n",
    "\n",
    "This notebook covers fundamental SQL queries:\n",
    "- Selecting all columns (SELECT *)\n",
    "- Selecting specific columns\n",
    "- Basic filtering with WHERE\n",
    "- Using comparison operators\n",
    "- Column aliases"
   ]
  },
  {
   "cell_type": "code",
   "execution_count": null,
   "metadata": {},
   "source": [
    "import duckdb\n",
    "import pandas as pd\n",
    "\n",
    "# Connect to the movies database\n",
    "conn = duckdb.connect('movies.db')\n",
    "print(\"Connected to database successfully!\")"
   ]
  },
  {
   "cell_type": "markdown",
   "metadata": {},
   "source": [
    "## SELECT All Columns\n",
    "\n",
    "The `SELECT *` statement retrieves all columns from a table:\n",
    "```sql\n",
    "SELECT *\n",
    "FROM table_name;\n",
    "```"
   ]
  },
  {
   "cell_type": "markdown",
   "metadata": {},
   "source": [
    "Example: Get all information about movies"
   ]
  },
  {
   "cell_type": "code",
   "execution_count": null,
   "metadata": {},
   "source": [
    "query = \"\"\"\n",
    "SELECT *\n",
    "FROM movies;\n",
    "\"\"\"\n",
    "result = conn.execute(query).df()\n",
    "display(result.head())"
   ]
  },
  {
   "cell_type": "markdown",
   "metadata": {},
   "source": [
    "🏋️ Challenge: Get all information from the actors table"
   ]
  },
  {
   "cell_type": "code",
   "execution_count": null,
   "metadata": {},
   "source": [
    "# Your code here"
   ]
  },
  {
   "cell_type": "markdown",
   "metadata": {},
   "source": [
    "## SELECT Specific Columns\n",
    "\n",
    "To select specific columns, list them after SELECT:\n",
    "```sql\n",
    "SELECT column1, column2\n",
    "FROM table_name;\n",
    "```"
   ]
  },
  {
   "cell_type": "markdown",
   "metadata": {},
   "source": [
    "Example: Get movie titles and release years"
   ]
  },
  {
   "cell_type": "code",
   "execution_count": null,
   "metadata": {},
   "source": [
    "query = \"\"\"\n",
    "SELECT title, release_year\n",
    "FROM movies;\n",
    "\"\"\"\n",
    "result = conn.execute(query).df()\n",
    "display(result.head())"
   ]
  },
  {
   "cell_type": "markdown",
   "metadata": {},
   "source": [
    "🏋️ Challenge: Get only the name and birth year from the actors table"
   ]
  },
  {
   "cell_type": "code",
   "execution_count": null,
   "metadata": {},
   "source": [
    "# Your code here"
   ]
  },
  {
   "cell_type": "markdown",
   "metadata": {},
   "source": [
    "## Column Aliases\n",
    "\n",
    "Use AS to give columns different names in the output:\n",
    "```sql\n",
    "SELECT column1 AS \"New Name\"\n",
    "FROM table_name;\n",
    "```"
   ]
  },
  {
   "cell_type": "markdown",
   "metadata": {},
   "source": [
    "Example: Rename columns for clearer output"
   ]
  },
  {
   "cell_type": "code",
   "execution_count": null,
   "metadata": {},
   "source": [
    "query = \"\"\"\n",
    "SELECT \n",
    "    title AS \"Movie Title\",\n",
    "    release_year AS \"Year Released\"\n",
    "FROM movies;\n",
    "\"\"\"\n",
    "result = conn.execute(query).df()\n",
    "display(result.head())"
   ]
  },
  {
   "cell_type": "markdown",
   "metadata": {},
   "source": [
    "🏋️ Challenge: Get the name column from actors as \"Actor Name\" and birth_year as \"Year Born\""
   ]
  },
  {
   "cell_type": "code",
   "execution_count": null,
   "metadata": {},
   "source": [
    "# Your code here"
   ]
  },
  {
   "cell_type": "markdown",
   "metadata": {},
   "source": [
    "## WHERE Clause\n",
    "\n",
    "The WHERE clause filters rows based on conditions:\n",
    "```sql\n",
    "SELECT column1, column2\n",
    "FROM table_name\n",
    "WHERE condition;\n",
    "```"
   ]
  },
  {
   "cell_type": "markdown",
   "metadata": {},
   "source": [
    "Example: Find recent movies"
   ]
  },
  {
   "cell_type": "code",
   "execution_count": null,
   "metadata": {},
   "source": [
    "query = \"\"\"\n",
    "SELECT title, release_year\n",
    "FROM movies\n",
    "WHERE release_year > 2020;\n",
    "\"\"\"\n",
    "result = conn.execute(query).df()\n",
    "display(result)"
   ]
  },
  {
   "cell_type": "markdown",
   "metadata": {},
   "source": [
    "🏋️ Challenge: Find all actors born after 1990"
   ]
  },
  {
   "cell_type": "code",
   "execution_count": null,
   "metadata": {},
   "source": [
    "# Your code here"
   ]
  },
  {
   "cell_type": "markdown",
   "metadata": {},
   "source": [
    "## Comparison Operators\n",
    "\n",
    "SQL supports: =, <>, >, <, >=, <=\n"
   ]
  },
  {
   "cell_type": "markdown",
   "metadata": {},
   "source": [
    "Example: Find movies from exactly 2023"
   ]
  },
  {
   "cell_type": "code",
   "execution_count": null,
   "metadata": {},
   "source": [
    "query = \"\"\"\n",
    "SELECT title, release_year\n",
    "FROM movies\n",
    "WHERE release_year = 2023;\n",
    "\"\"\"\n",
    "result = conn.execute(query).df()\n",
    "display(result)"
   ]
  },
  {
   "cell_type": "markdown",
   "metadata": {},
   "source": [
    "🏋️ Challenge: Find all movies released before 1950"
   ]
  },
  {
   "cell_type": "code",
   "execution_count": null,
   "metadata": {},
   "source": [
    "# Your code here"
   ]
  },
  {
   "cell_type": "markdown",
   "metadata": {},
   "source": [
    "## AND/OR Conditions\n",
    "\n",
    "Combine conditions using AND/OR:\n",
    "```sql\n",
    "SELECT columns\n",
    "FROM table\n",
    "WHERE condition1 AND/OR condition2;\n",
    "```"
   ]
  },
  {
   "cell_type": "markdown",
   "metadata": {},
   "source": [
    "Example: Find movies from the 2020s with specific word in title"
   ]
  },
  {
   "cell_type": "code",
   "execution_count": null,
   "metadata": {},
   "source": [
    "query = \"\"\"\n",
    "SELECT title, release_year\n",
    "FROM movies\n",
    "WHERE release_year >= 2020 \n",
    "AND title LIKE '%Love%';\n",
    "\"\"\"\n",
    "result = conn.execute(query).df()\n",
    "display(result)"
   ]
  },
  {
   "cell_type": "markdown",
   "metadata": {},
   "source": [
    "🏋️ Challenge: Find all movies released either before 1950 OR after 2020"
   ]
  },
  {
   "cell_type": "code",
   "execution_count": null,
   "metadata": {},
   "source": [
    "# Your code here"
   ]
  },
  {
   "cell_type": "markdown",
   "metadata": {},
   "source": [
    "## Solutions\n",
    "\n",
    "Here are solutions to the challenges:"
   ]
  },
  {
   "cell_type": "markdown",
   "metadata": {},
   "source": [
    "### Challenge 1: All Actor Information"
   ]
  },
  {
   "cell_type": "code",
   "execution_count": null,
   "metadata": {},
   "source": [
    "query = \"\"\"\n",
    "SELECT *\n",
    "FROM actors;\n",
    "\"\"\"\n",
    "result = conn.execute(query).df()\n",
    "display(result)"
   ]
  },
  {
   "cell_type": "markdown",
   "metadata": {},
   "source": [
    "### Challenge 2: Actor Names and Birth Years"
   ]
  },
  {
   "cell_type": "code",
   "execution_count": null,
   "metadata": {},
   "source": [
    "query = \"\"\"\n",
    "SELECT name, birth_year\n",
    "FROM actors;\n",
    "\"\"\"\n",
    "result = conn.execute(query).df()\n",
    "display(result)"
   ]
  },
  {
   "cell_type": "markdown",
   "metadata": {},
   "source": [
    "### Challenge 3: Actor Column Aliases"
   ]
  },
  {
   "cell_type": "code",
   "execution_count": null,
   "metadata": {},
   "source": [
    "query = \"\"\"\n",
    "SELECT \n",
    "    name AS \"Actor Name\",\n",
    "    birth_year AS \"Year Born\"\n",
    "FROM actors;\n",
    "\"\"\"\n",
    "result = conn.execute(query).df()\n",
    "display(result)"
   ]
  },
  {
   "cell_type": "markdown",
   "metadata": {},
   "source": [
    "### Challenge 4: Recent Actors"
   ]
  },
  {
   "cell_type": "code",
   "execution_count": null,
   "metadata": {},
   "source": [
    "query = \"\"\"\n",
    "SELECT name, birth_year\n",
    "FROM actors\n",
    "WHERE birth_year > 1990;\n",
    "\"\"\"\n",
    "result = conn.execute(query).df()\n",
    "display(result)"
   ]
  },
  {
   "cell_type": "markdown",
   "metadata": {},
   "source": [
    "### Challenge 5: Old Movies"
   ]
  },
  {
   "cell_type": "code",
   "execution_count": null,
   "metadata": {},
   "source": [
    "query = \"\"\"\n",
    "SELECT title, release_year\n",
    "FROM movies\n",
    "WHERE release_year < 1950;\n",
    "\"\"\"\n",
    "result = conn.execute(query).df()\n",
    "display(result)"
   ]
  },
  {
   "cell_type": "markdown",
   "metadata": {},
   "source": [
    "### Challenge 6: Very Old or Very New Movies"
   ]
  },
  {
   "cell_type": "code",
   "execution_count": null,
   "metadata": {},
   "source": [
    "query = \"\"\"\n",
    "SELECT title, release_year\n",
    "FROM movies\n",
    "WHERE release_year < 1950 \n",
    "OR release_year > 2020;\n",
    "\"\"\"\n",
    "result = conn.execute(query).df()\n",
    "display(result)"
   ]
  },
  {
   "cell_type": "code",
   "execution_count": null,
   "metadata": {},
   "source": [
    "conn.close()\n",
    "print(\"Database connection closed.\")"
   ]
  },
  {
   "cell_type": "markdown",
   "metadata": {},
   "source": [
    "## Key Points to Remember\n",
    "- SELECT * returns all columns but should be used sparingly\n",
    "- Always specify the columns you actually need\n",
    "- Use column aliases to make output more readable\n",
    "- WHERE clause filters rows based on conditions\n",
    "- You can combine conditions using AND/OR\n",
    "- Always close your database connection when finished"
   ]
  }
 ],
 "metadata": {
  "kernelspec": {
   "display_name": "Python 3",
   "language": "python",
   "name": "python3"
  },
  "language_info": {
   "codemirror_mode": {
    "name": "ipython",
    "version": 3
   },
   "file_extension": ".py",
   "mimetype": "text/x-python",
   "name": "python",
   "nbconvert_exporter": "python",
   "pygments_lexer": "ipython3",
   "version": "3.8.0"
  }
 },
 "nbformat": 4,
 "nbformat_minor": 4
}