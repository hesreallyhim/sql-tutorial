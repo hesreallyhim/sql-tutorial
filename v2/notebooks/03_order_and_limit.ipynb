{
 "cells": [
  {
   "cell_type": "markdown",
   "metadata": {},
   "source": [
    "# Sorting and Limiting Results in SQL\n",
    "\n",
    "This notebook covers:\n",
    "- Sorting results with ORDER BY\n",
    "- Ascending vs descending order (ASC/DESC)\n",
    "- Limiting result sets with LIMIT\n",
    "- Multiple sort criteria\n",
    "- Combining WHERE, ORDER BY, and LIMIT\n",
    "- Performance considerations"
   ]
  },
  {
   "cell_type": "code",
   "execution_count": null,
   "metadata": {},
   "source": [
    "import duckdb\n",
    "import pandas as pd\n",
    "\n",
    "# Connect to the movies database\n",
    "conn = duckdb.connect('movies.db')\n",
    "\n",
    "# This will make our query results look nice\n",
    "pd.set_option('display.max_columns', None)\n",
    "pd.set_option('display.max_rows', 20)\n",
    "\n",
    "print(\"Connected to database successfully!\")"
   ]
  },
  {
   "cell_type": "code",
   "execution_count": null,
   "metadata": {},
   "source": [
    "def run_query(query, show_results=True, show_all=False):\n",
    "    \"\"\"Execute a SQL query, optionally display results, and return them as a pandas DataFrame\n",
    "    \n",
    "    Args:\n",
    "        query (str): SQL query to execute\n",
    "        show_results (bool): Whether to display the results\n",
    "        show_all (bool): If True, shows all results. If False, shows first 5 rows\n",
    "        \n",
    "    Returns:\n",
    "        pandas.DataFrame: Query results\n",
    "    \"\"\"\n",
    "    try:\n",
    "        # Execute query and get results\n",
    "        result = conn.execute(query).df()\n",
    "        \n",
    "        # Display results if requested\n",
    "        if show_results:\n",
    "            if show_all:\n",
    "                display(result)\n",
    "            else:\n",
    "                display(result.head())\n",
    "        \n",
    "        return result\n",
    "    except Exception as e:\n",
    "        print(f\"Error executing query: {str(e)}\")\n",
    "        return None"
   ]
  },
  {
   "cell_type": "markdown",
   "metadata": {},
   "source": [
    "## ORDER BY Basics\n",
    "\n",
    "The `ORDER BY` clause sorts results in ascending (ASC) or descending (DESC) order:\n",
    "```sql\n",
    "SELECT column1, column2\n",
    "FROM table_name\n",
    "ORDER BY column1 [ASC|DESC];\n",
    "```\n",
    "\n",
    "By default, ORDER BY uses ascending order (ASC) if not specified."
   ]
  },
  {
   "cell_type": "markdown",
   "metadata": {},
   "source": [
    "Example: Get movies sorted by release year (newest first)"
   ]
  },
  {
   "cell_type": "code",
   "execution_count": null,
   "metadata": {},
   "source": [
    "query = \"\"\"\n",
    "SELECT title, release_year\n",
    "FROM movies\n",
    "ORDER BY release_year DESC;\n",
    "\"\"\"\n",
    "run_query(query)"
   ]
  },
  {
   "cell_type": "markdown",
   "metadata": {},
   "source": [
    "🏋️ Challenge: Get all actors sorted by their birth year (oldest first)"
   ]
  },
  {
   "cell_type": "code",
   "execution_count": null,
   "metadata": {},
   "source": [
    "query = \"\"\"\n",
    "-- Write query here\n",
    "\"\"\"\n",
    "run_query(query)"
   ]
  },
  {
   "cell_type": "markdown",
   "metadata": {},
   "source": [
    "## Multiple Sort Criteria\n",
    "\n",
    "You can sort by multiple columns, each with its own direction:\n",
    "```sql\n",
    "SELECT columns\n",
    "FROM table\n",
    "ORDER BY column1 ASC, column2 DESC;\n",
    "```"
   ]
  },
  {
   "cell_type": "markdown",
   "metadata": {},
   "source": [
    "Example: Sort movies by release year and then by title"
   ]
  },
  {
   "cell_type": "code",
   "execution_count": null,
   "metadata": {},
   "source": [
    "query = \"\"\"\n",
    "SELECT title, release_year\n",
    "FROM movies\n",
    "ORDER BY release_year DESC, title ASC;\n",
    "\"\"\"\n",
    "run_query(query)"
   ]
  },
  {
   "cell_type": "markdown",
   "metadata": {},
   "source": [
    "🏋️ Challenge: Get actors sorted by birth year (newest first) and then by name alphabetically"
   ]
  },
  {
   "cell_type": "code",
   "execution_count": null,
   "metadata": {},
   "source": [
    "query = \"\"\"\n",
    "-- Write query here\n",
    "\"\"\"\n",
    "run_query(query)"
   ]
  },
  {
   "cell_type": "markdown",
   "metadata": {},
   "source": [
    "## LIMIT Clause\n",
    "\n",
    "Use LIMIT to restrict the number of rows returned:\n",
    "```sql\n",
    "SELECT columns\n",
    "FROM table\n",
    "LIMIT number_of_rows;\n",
    "```"
   ]
  },
  {
   "cell_type": "markdown",
   "metadata": {},
   "source": [
    "Example: Get the 5 most recent movies"
   ]
  },
  {
   "cell_type": "code",
   "execution_count": null,
   "metadata": {},
   "source": [
    "query = \"\"\"\n",
    "SELECT title, release_year\n",
    "FROM movies\n",
    "ORDER BY release_year DESC\n",
    "LIMIT 5;\n",
    "\"\"\"\n",
    "run_query(query, show_all=True)"
   ]
  },
  {
   "cell_type": "markdown",
   "metadata": {},
   "source": [
    "🏋️ Challenge: Get the 3 oldest actors in the database"
   ]
  },
  {
   "cell_type": "code",
   "execution_count": null,
   "metadata": {},
   "source": [
    "query = \"\"\"\n",
    "-- Write query here\n",
    "\"\"\"\n",
    "run_query(query, show_all=True)"
   ]
  },
  {
   "cell_type": "markdown",
   "metadata": {},
   "source": [
    "## Combining WHERE, ORDER BY, and LIMIT\n",
    "\n",
    "You can combine all these clauses, but they must be in the correct order:\n",
    "```sql\n",
    "SELECT columns\n",
    "FROM table\n",
    "WHERE condition\n",
    "ORDER BY column\n",
    "LIMIT number;\n",
    "```"
   ]
  },
  {
   "cell_type": "markdown",
   "metadata": {},
   "source": [
    "Example: Get the 3 most recent movies released after 2020"
   ]
  },
  {
   "cell_type": "code",
   "execution_count": null,
   "metadata": {},
   "source": [
    "query = \"\"\"\n",
    "SELECT title, release_year\n",
    "FROM movies\n",
    "WHERE release_year > 2020\n",
    "ORDER BY release_year DESC\n",
    "LIMIT 3;\n",
    "\"\"\"\n",
    "run_query(query, show_all=True)"
   ]
  },
  {
   "cell_type": "markdown",
   "metadata": {},
   "source": [
    "🏋️ Challenge: Find the 5 youngest actors born before 2000"
   ]
  },
  {
   "cell_type": "code",
   "execution_count": null,
   "metadata": {},
   "source": [
    "query = \"\"\"\n",
    "-- Write query here\n",
    "\"\"\"\n",
    "run_query(query, show_all=True)"
   ]
  },
  {
   "cell_type": "markdown",
   "metadata": {},
   "source": [
    "## Performance Considerations\n",
    "\n",
    "When using ORDER BY and LIMIT:\n",
    "- ORDER BY can be computationally expensive on large datasets\n",
    "- LIMIT can improve performance by reducing the result set\n",
    "- Using indexes on sorted columns can improve performance\n",
    "- Consider using WHERE before ORDER BY to reduce the amount of data to sort"
   ]
  },
  {
   "cell_type": "markdown",
   "metadata": {},
   "source": [
    "Example: Efficient query combining all concepts"
   ]
  },
  {
   "cell_type": "code",
   "execution_count": null,
   "metadata": {},
   "source": [
    "query = \"\"\"\n",
    "SELECT title, release_year\n",
    "FROM movies\n",
    "WHERE release_year >= 2000  -- Filter first\n",
    "ORDER BY release_year DESC, title ASC  -- Then sort\n",
    "LIMIT 10;  -- Finally limit\n",
    "\"\"\"\n",
    "run_query(query, show_all=True)"
   ]
  },
  {
   "cell_type": "markdown",
   "metadata": {},
   "source": [
    "## Solutions\n",
    "\n",
    "Here are solutions to the challenges:"
   ]
  },
  {
   "cell_type": "markdown",
   "metadata": {},
   "source": [
    "### Challenge 1: Actors by Birth Year"
   ]
  },
  {
   "cell_type": "code",
   "execution_count": null,
   "metadata": {},
   "source": [
    "query = \"\"\"\n",
    "SELECT name, birth_year\n",
    "FROM actors\n",
    "ORDER BY birth_year ASC;\n",
    "\"\"\"\n",
    "run_query(query)"
   ]
  },
  {
   "cell_type": "markdown",
   "metadata": {},
   "source": [
    "### Challenge 2: Actors by Birth Year and Name"
   ]
  },
  {
   "cell_type": "code",
   "execution_count": null,
   "metadata": {},
   "source": [
    "query = \"\"\"\n",
    "SELECT name, birth_year\n",
    "FROM actors\n",
    "ORDER BY birth_year DESC, name ASC;\n",
    "\"\"\"\n",
    "run_query(query)"
   ]
  },
  {
   "cell_type": "markdown",
   "metadata": {},
   "source": [
    "### Challenge 3: Three Oldest Actors"
   ]
  },
  {
   "cell_type": "code",
   "execution_count": null,
   "metadata": {},
   "source": [
    "query = \"\"\"\n",
    "SELECT name, birth_year\n",
    "FROM actors\n",
    "ORDER BY birth_year ASC\n",
    "LIMIT 3;\n",
    "\"\"\"\n",
    "run_query(query, show_all=True)"
   ]
  },
  {
   "cell_type": "markdown",
   "metadata": {},
   "source": [
    "### Challenge 4: Five Youngest Pre-2000 Actors"
   ]
  },
  {
   "cell_type": "code",
   "execution_count": null,
   "metadata": {},
   "source": [
    "query = \"\"\"\n",
    "SELECT name, birth_year\n",
    "FROM actors\n",
    "WHERE birth_year < 2000\n",
    "ORDER BY birth_year DESC\n",
    "LIMIT 5;\n",
    "\"\"\"\n",
    "run_query(query, show_all=True)"
   ]
  },
  {
   "cell_type": "code",
   "execution_count": null,
   "metadata": {},
   "source": [
    "conn.close()\n",
    "print(\"Database connection closed.\")"
   ]
  },
  {
   "cell_type": "markdown",
   "metadata": {},
   "source": [
    "## Key Points to Remember\n",
    "- ORDER BY sorts results (ASC by default)\n",
    "- You can sort by multiple columns\n",
    "- LIMIT restricts the number of rows returned\n",
    "- Clause order matters: WHERE → ORDER BY → LIMIT\n",
    "- Consider performance implications when sorting large datasets\n",
    "- Always close your database connection when finished"
   ]
  }
 ],
 "metadata": {
  "kernelspec": {
   "display_name": "Python 3",
   "language": "python",
   "name": "python3"
  },
  "language_info": {
   "codemirror_mode": {
    "name": "ipython",
    "version": 3
   },
   "file_extension": ".py",
   "mimetype": "text/x-python",
   "name": "python",
   "nbconvert_exporter": "python",
   "pygments_lexer": "ipython3",
   "version": "3.8.0"
  }
 },
 "nbformat": 4,
 "nbformat_minor": 4
}