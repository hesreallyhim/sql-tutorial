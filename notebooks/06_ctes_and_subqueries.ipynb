{
 "cells": [
  {
   "cell_type": "markdown",
   "metadata": {},
   "source": [
    "# Fun with SQL: CTEs and Subqueries 🧩\n",
    "\n",
    "Welcome to your sixth SQL adventure! Today we'll learn about two powerful ways to break down complex queries:\n",
    "- Common Table Expressions (CTEs)\n",
    "- Subqueries\n",
    "\n",
    "These techniques are super helpful when you need to analyze data in multiple steps!\n",
    "\n",
    "Let's start with our database connection:"
   ]
  },
  {
   "cell_type": "code",
   "execution_count": null,
   "metadata": {},
   "source": [
    "import sqlite3\n",
    "import pandas as pd\n",
    "\n",
    "conn = sqlite3.connect('../data/entertainment.db')\n",
    "pd.set_option('display.max_columns', None)"
   ]
  },
  {
   "cell_type": "markdown",
   "metadata": {},
   "source": [
    "## 🎯 Challenge 1: Your First CTE\n",
    "\n",
    "A Common Table Expression (CTE) is like creating a temporary view of your data. It starts with `WITH` and makes complex queries easier to read:\n",
    "\n",
    "```sql\n",
    "WITH high_rated_movies AS (\n",
    "    SELECT *\n",
    "    FROM movies\n",
    "    WHERE rating > 8.0\n",
    ")\n",
    "SELECT title, rating\n",
    "FROM high_rated_movies\n",
    "ORDER BY rating DESC;\n",
    "```\n",
    "\n",
    "💡 CTEs make your queries more organized and easier to understand!"
   ]
  },
  {
   "cell_type": "code",
   "execution_count": null,
   "metadata": {},
   "source": [
    "query = \"\"\"\n",
    "-- Try writing a CTE that finds recent movies (after 2015)\n",
    "-- Then select their titles and average rating\n",
    "\"\"\"\n",
    "\n",
    "pd.read_sql_query(query, conn)"
   ]
  },
  {
   "cell_type": "markdown",
   "metadata": {},
   "source": [
    "## 🎯 Challenge 2: Multiple CTEs\n",
    "\n",
    "You can chain multiple CTEs together for more complex analysis:\n",
    "\n",
    "```sql\n",
    "WITH high_rated_movies AS (\n",
    "    SELECT *\n",
    "    FROM movies\n",
    "    WHERE rating > 8.0\n",
    "), \n",
    "actor_appearances AS (\n",
    "    SELECT actor_id, COUNT(*) as num_movies\n",
    "    FROM movie_actors\n",
    "    WHERE movie_id IN (SELECT movie_id FROM high_rated_movies)\n",
    "    GROUP BY actor_id\n",
    ")\n",
    "SELECT a.name, aa.num_movies\n",
    "FROM actor_appearances aa\n",
    "JOIN actors a ON aa.actor_id = a.actor_id\n",
    "ORDER BY aa.num_movies DESC;\n",
    "```\n",
    "\n",
    "Try writing multiple CTEs to find genres with both high average ratings AND many movies!"
   ]
  },
  {
   "cell_type": "code",
   "execution_count": null,
   "metadata": {},
   "source": [
    "query = \"\"\"\n",
    "-- Write your multiple CTEs query here\n",
    "\"\"\"\n",
    "\n",
    "pd.read_sql_query(query, conn)"
   ]
  },
  {
   "cell_type": "markdown",
   "metadata": {},
   "source": [
    "## 🎯 Challenge 3: Subqueries\n",
    "\n",
    "Subqueries are queries nested inside other queries. They're useful when you need to:\n",
    "- Filter based on aggregated values\n",
    "- Compare values to summary statistics\n",
    "- Create derived columns\n",
    "\n",
    "```sql\n",
    "SELECT title, rating\n",
    "FROM movies\n",
    "WHERE rating > (\n",
    "    SELECT AVG(rating)\n",
    "    FROM movies\n",
    ");\n",
    "```\n",
    "\n",
    "Try finding all movies with more reviews than average!"
   ]
  },
  {
   "cell_type": "code",
   "execution_count": null,
   "metadata": {},
   "source": [
    "query = \"\"\"\n",
    "-- Write your subquery here\n",
    "\"\"\"\n",
    "\n",
    "pd.read_sql_query(query, conn)"
   ]
  },
  {
   "cell_type": "markdown",
   "metadata": {},
   "source": [
    "## 🌟 Bonus Challenge: Combining CTEs and Subqueries\n",
    "\n",
    "Can you write a query that:\n",
    "1. Uses a CTE to find movies with above-average ratings\n",
    "2. Uses another CTE to count how many actors appeared in these movies\n",
    "3. Uses a subquery to compare each movie's actor count to the overall average?\n",
    "\n",
    "This kind of multi-step analysis is common in real-world data analysis!"
   ]
  },
  {
   "cell_type": "code",
   "execution_count": null,
   "metadata": {},
   "source": [
    "query = \"\"\"\n",
    "-- Write your complex query combining CTEs and subqueries!\n",
    "\"\"\"\n",
    "\n",
    "pd.read_sql_query(query, conn)"
   ]
  },
  {
   "cell_type": "markdown",
   "metadata": {},
   "source": [
    "## 🎉 Excellent work!\n",
    "\n",
    "You've learned how to:\n",
    "- Use CTEs to break down complex queries\n",
    "- Chain multiple CTEs together\n",
    "- Write subqueries for filtering and calculations\n",
    "- Combine these techniques for advanced analysis\n",
    "\n",
    "Tips for using CTEs and Subqueries:\n",
    "- CTEs make queries more readable and maintainable\n",
    "- Use CTEs when you need to reference the same intermediate result multiple times\n",
    "- Subqueries are great for dynamic filtering and calculations\n",
    "- Think about breaking complex analysis into smaller, logical steps\n",
    "\n",
    "In the next notebook, we'll explore window functions for even more advanced analysis!"
   ]
  }
 ],
 "metadata": {
  "kernelspec": {
   "display_name": "Python 3",
   "language": "python",
   "name": "python3"
  }
 }
}