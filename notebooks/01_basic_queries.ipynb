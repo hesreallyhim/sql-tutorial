{
 "cells": [
  {
   "cell_type": "markdown",
   "metadata": {},
   "source": [
    "# Fun with SQL: Basic Queries 🎬\n",
    "\n",
    "Welcome to your second SQL adventure! Today we'll learn how to write basic queries using a fun movie database. \n",
    "Let's discover what movies and TV shows are in our collection!\n",
    "\n",
    "First, let's set up our connection to the database:"
   ]
  },
  {
   "cell_type": "code",
   "execution_count": null,
   "metadata": {},
   "outputs": [],
   "source": [
    "import sqlite3\n",
    "import pandas as pd\n",
    "\n",
    "# Connect to our movie database\n",
    "conn = sqlite3.connect('../data/entertainment.db')\n",
    "\n",
    "# This will make our query results look nice\n",
    "pd.set_option('display.max_columns', None)"
   ]
  },
  {
   "cell_type": "markdown",
   "metadata": {},
   "source": [
    "## 🎯 Challenge 1: Your First SELECT Query\n",
    "\n",
    "Let's start by looking at what's in our `movies` table. The `SELECT` statement is like asking the database \"show me something!\"\n",
    "\n",
    "Try writing a query to see all movies in the database. Here's the template:\n",
    "```sql\n",
    "SELECT * FROM movies;\n",
    "```\n",
    "\n",
    "💡 The `*` means \"everything\". It's like saying \"show me all columns\"!"
   ]
  },
  {
   "cell_type": "code",
   "execution_count": null,
   "metadata": {},
   "outputs": [],
   "source": [
    "# Your turn! Write the query:\n",
    "query = \"\"\"\n",
    "-- Write your SELECT query here\n",
    "\"\"\"\n",
    "\n",
    "# This will run your query and show the results\n",
    "pd.read_sql_query(query, conn)"
   ]
  },
  {
   "cell_type": "markdown",
   "metadata": {},
   "source": [
    "## 🎯 Challenge 2: Selecting Specific Columns\n",
    "\n",
    "Sometimes we don't want to see everything - maybe we just want the movie titles and their release years.\n",
    "\n",
    "Try writing a query that shows only the `title` and `release_year` columns:\n",
    "```sql\n",
    "SELECT column1, column2 FROM table_name;\n",
    "```"
   ]
  },
  {
   "cell_type": "code",
   "execution_count": null,
   "metadata": {},
   "outputs": [],
   "source": [
    "query = \"\"\"\n",
    "-- Write your query to select specific columns\n",
    "\"\"\"\n",
    "\n",
    "pd.read_sql_query(query, conn)"
   ]
  },
  {
   "cell_type": "markdown",
   "metadata": {},
   "source": [
    "## 🎯 Challenge 3: Finding Specific Movies\n",
    "\n",
    "Let's find all movies directed by Steven Spielberg! For this, we'll use the `WHERE` clause:\n",
    "```sql\n",
    "SELECT * FROM movies WHERE director = 'Steven Spielberg';\n",
    "```\n",
    "\n",
    "Now it's your turn - try finding all movies released after 2020!"
   ]
  },
  {
   "cell_type": "code",
   "execution_count": null,
   "metadata": {},
   "outputs": [],
   "source": [
    "query = \"\"\"\n",
    "-- Write your query to find recent movies\n",
    "\"\"\"\n",
    "\n",
    "pd.read_sql_query(query, conn)"
   ]
  },
  {
   "cell_type": "markdown",
   "metadata": {},
   "source": [
    "## 🌟 Bonus Challenge: Combining What We Learned\n",
    "\n",
    "Can you write a query that:\n",
    "1. Shows only the title and rating\n",
    "2. For movies released after 2015\n",
    "3. That have a rating higher than 8.0?\n",
    "\n",
    "Hint: Use `AND` to combine conditions!\n",
    "```sql\n",
    "SELECT ... FROM ... WHERE ... AND ...;\n",
    "```"
   ]
  },
  {
   "cell_type": "code",
   "execution_count": null,
   "metadata": {},
   "outputs": [],
   "source": [
    "query = \"\"\"\n",
    "-- Write your bonus challenge query here!\n",
    "\"\"\"\n",
    "\n",
    "pd.read_sql_query(query, conn)"
   ]
  }
 ],
 "metadata": {
  "kernelspec": {
   "display_name": "Python 3",
   "language": "python",
   "name": "python3"
  }
 },
 "nbformat": 4,
 "nbformat_minor": 2
}
