{
 "cells": [
  {
   "cell_type": "markdown",
   "metadata": {},
   "source": [
    "# Fun with SQL: Joining Tables 🤝\n",
    "\n",
    "Welcome to your fourth SQL adventure! Today we'll learn about joining tables together.\n",
    "Remember our database has tables for movies, directors, and their relationships.\n",
    "\n",
    "Let's start with our usual setup:"
   ]
  },
  {
   "cell_type": "code",
   "execution_count": null,
   "metadata": {},
   "source": [
    "import sqlite3\n",
    "import pandas as pd\n",
    "\n",
    "conn = sqlite3.connect('../data/movies.db')\n",
    "pd.set_option('display.max_columns', None)"
   ]
  },
  {
   "cell_type": "markdown",
   "metadata": {},
   "source": [
    "## 🎯 Challenge 1: Your First JOIN\n",
    "\n",
    "Let's find out which directors made which movies! We'll need to join the `movies`, `movie_directors`, and `directors` tables:\n",
    "\n",
    "```sql\n",
    "SELECT movies.title, directors.name\n",
    "FROM movies\n",
    "JOIN movie_directors ON movies.movie_id = movie_directors.movie_id\n",
    "JOIN directors ON movie_directors.director_id = directors.director_id;\n",
    "```\n",
    "\n",
    "💡 This is called an \"INNER JOIN\" - it only shows matches that exist in both tables!"
   ]
  },
  {
   "cell_type": "code",
   "execution_count": null,
   "metadata": {},
   "source": [
    "query = \"\"\"\n",
    "-- Write your JOIN query here\n",
    "\"\"\"\n",
    "\n",
    "pd.read_sql_query(query, conn)"
   ]
  },
  {
   "cell_type": "markdown",
   "metadata": {},
   "source": [
    "## 🎯 Challenge 2: Using Table Aliases\n",
    "\n",
    "We can make our queries shorter using aliases for table names:\n",
    "```sql\n",
    "SELECT m.title, d.name\n",
    "FROM movies m\n",
    "JOIN movie_directors md ON m.movie_id = md.movie_id\n",
    "JOIN directors d ON md.director_id = d.director_id;\n",
    "```\n",
    "\n",
    "Try writing a query to show all movies and their genres using aliases!"
   ]
  },
  {
   "cell_type": "code",
   "execution_count": null,
   "metadata": {},
   "source": [
    "query = \"\"\"\n",
    "-- Write your query using table aliases\n",
    "\"\"\"\n",
    "\n",
    "pd.read_sql_query(query, conn)"
   ]
  },
  {
   "cell_type": "markdown",
   "metadata": {},
   "source": [
    "## 🎯 Challenge 3: LEFT JOIN\n",
    "\n",
    "Sometimes we want to see ALL movies, even if they don't have a director assigned yet.\n",
    "That's where LEFT JOIN comes in:\n",
    "\n",
    "```sql\n",
    "SELECT m.title, d.name\n",
    "FROM movies m\n",
    "LEFT JOIN movie_directors md ON m.movie_id = md.movie_id\n",
    "LEFT JOIN directors d ON md.director_id = d.director_id;\n",
    "```\n",
    "\n",
    "Try finding all directors and their movies (even directors who haven't directed any movies yet)!"
   ]
  },
  {
   "cell_type": "code",
   "execution_count": null,
   "metadata": {},
   "source": [
    "query = \"\"\"\n",
    "-- Write your LEFT JOIN query here\n",
    "\"\"\"\n",
    "\n",
    "pd.read_sql_query(query, conn)"
   ]
  },
  {
   "cell_type": "markdown",
   "metadata": {},
   "source": [
    "## 🌟 Bonus Challenge: Complex Joins\n",
    "\n",
    "Can you write a query that:\n",
    "1. Shows movie titles\n",
    "2. Along with their director names\n",
    "3. But only for movies with a rating above 8.0\n",
    "4. Ordered by movie rating?\n",
    "\n",
    "Hint: Combine JOINs with WHERE and ORDER BY!"
   ]
  },
  {
   "cell_type": "code",
   "execution_count": null,
   "metadata": {},
   "source": [
    "query = \"\"\"\n",
    "-- Write your complex JOIN query here!\n",
    "\"\"\"\n",
    "\n",
    "pd.read_sql_query(query, conn)"
   ]
  },
  {
   "cell_type": "markdown",
   "metadata": {},
   "source": [
    "## 🎉 Amazing progress!\n",
    "\n",
    "You've learned how to:\n",
    "- Join multiple tables using INNER JOIN\n",
    "- Use table aliases to make queries cleaner\n",
    "- Use LEFT JOIN to keep all records from the left table\n",
    "- Combine JOINs with other SQL commands\n",
    "\n",
    "In the next notebook, we'll learn about grouping and aggregating data!"
   ]
  }
 ],
 "metadata": {
  "kernelspec": {
   "display_name": "Python 3",
   "language": "python",
   "name": "python3"
  }
 }
}