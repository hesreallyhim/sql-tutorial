{
 "cells": [
  {
   "cell_type": "markdown",
   "metadata": {},
   "source": [
    "# Fun with SQL: Grouping and Aggregation 📊\n",
    "\n",
    "Welcome to your fifth SQL adventure! Today we'll learn how to:\n",
    "- Group data using GROUP BY\n",
    "- Use aggregate functions like COUNT, AVG, and SUM\n",
    "- Filter groups using HAVING\n",
    "\n",
    "Let's start with our database connection:"
   ]
  },
  {
   "cell_type": "code",
   "execution_count": null,
   "metadata": {},
   "source": [
    "import sqlite3\n",
    "import pandas as pd\n",
    "\n",
    "conn = sqlite3.connect('../data/movies.db')\n",
    "pd.set_option('display.max_columns', None)"
   ]
  },
  {
   "cell_type": "markdown",
   "metadata": {},
   "source": [
    "## 🎯 Challenge 1: Counting Movies by Genre\n",
    "\n",
    "Let's find out how many movies we have in each genre using GROUP BY and COUNT:\n",
    "```sql\n",
    "SELECT genre, COUNT(*) as movie_count\n",
    "FROM movies\n",
    "GROUP BY genre;\n",
    "```\n",
    "\n",
    "💡 The GROUP BY clause groups rows that have the same values in specified columns!"
   ]
  },
  {
   "cell_type": "code",
   "execution_count": null,
   "metadata": {},
   "source": [
    "query = \"\"\"\n",
    "-- Write your GROUP BY query here\n",
    "\"\"\"\n",
    "\n",
    "pd.read_sql_query(query, conn)"
   ]
  },
  {
   "cell_type": "markdown",
   "metadata": {},
   "source": [
    "## 🎯 Challenge 2: Average Ratings by Genre\n",
    "\n",
    "We can use other aggregate functions like AVG to find the average rating for each genre:\n",
    "```sql\n",
    "SELECT genre, \n",
    "       COUNT(*) as movie_count,\n",
    "       AVG(rating) as avg_rating\n",
    "FROM movies\n",
    "GROUP BY genre;\n",
    "```\n",
    "\n",
    "Try finding the highest and lowest ratings for each genre using MIN and MAX!"
   ]
  },
  {
   "cell_type": "code",
   "execution_count": null,
   "metadata": {},
   "source": [
    "query = \"\"\"\n",
    "-- Write your query using MIN and MAX\n",
    "\"\"\"\n",
    "\n",
    "pd.read_sql_query(query, conn)"
   ]
  },
  {
   "cell_type": "markdown",
   "metadata": {},
   "source": [
    "## 🎯 Challenge 3: Filtering Groups with HAVING\n",
    "\n",
    "Sometimes we want to filter groups based on aggregate values. That's where HAVING comes in:\n",
    "```sql\n",
    "SELECT genre, AVG(rating) as avg_rating\n",
    "FROM movies\n",
    "GROUP BY genre\n",
    "HAVING avg_rating > 8.0;\n",
    "```\n",
    "\n",
    "💡 HAVING is like WHERE, but for grouped data!"
   ]
  },
  {
   "cell_type": "code",
   "execution_count": null,
   "metadata": {},
   "source": [
    "query = \"\"\"\n",
    "-- Write a query to find genres with more than 3 movies\n",
    "\"\"\"\n",
    "\n",
    "pd.read_sql_query(query, conn)"
   ]
  },
  {
   "cell_type": "markdown",
   "metadata": {},
   "source": [
    "## 🌟 Bonus Challenge: Complex Grouping\n",
    "\n",
    "Can you write a query that:\n",
    "1. Groups movies by release year and genre\n",
    "2. Shows the count and average rating for each group\n",
    "3. Only includes groups with at least 2 movies\n",
    "4. Orders results by year (newest first)?\n",
    "\n",
    "Hint: You can GROUP BY multiple columns!"
   ]
  },
  {
   "cell_type": "code",
   "execution_count": null,
   "metadata": {},
   "source": [
    "query = \"\"\"\n",
    "-- Write your complex grouping query here!\n",
    "\"\"\"\n",
    "\n",
    "pd.read_sql_query(query, conn)"
   ]
  },
  {
   "cell_type": "markdown",
   "metadata": {},
   "source": [
    "## 🎉 Well done!\n",
    "\n",
    "You've learned how to:\n",
    "- Group data using GROUP BY\n",
    "- Use aggregate functions (COUNT, AVG, MIN, MAX)\n",
    "- Filter groups using HAVING\n",
    "- Combine grouping with ordering\n",
    "\n",
    "Common Aggregate Functions:\n",
    "- COUNT(): Counts rows\n",
    "- SUM(): Adds up values\n",
    "- AVG(): Calculates average\n",
    "- MIN(): Finds minimum value\n",
    "- MAX(): Finds maximum value\n",
    "\n",
    "In the next notebook, we'll explore subqueries and more advanced SQL concepts!"
   ]
  }
 ],
 "metadata": {
  "kernelspec": {
   "display_name": "Python 3",
   "language": "python",
   "name": "python3"
  }
 }
}