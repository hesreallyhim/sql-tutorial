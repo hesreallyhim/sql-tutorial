{
    "cells": [
     {
      "cell_type": "markdown",
      "metadata": {},
      "source": [
       "# Getting Started with SQL 🚀\n",
       "\n",
       "This notebook creates an in-memory database that we can practice with. No installation needed!"
      ]
     },
     {
      "cell_type": "code",
      "execution_count": null,
      "metadata": {},
      "source": [
       "import sqlite3\n",
       "import pandas as pd\n",
       "\n",
       "# Create an in-memory database\n",
       "conn = sqlite3.connect(':memory:')\n",
       "cursor = conn.cursor()\n",
       "\n",
       "# Create our movies table\n",
       "cursor.execute('''\n",
       "CREATE TABLE movies (\n",
       "    id INTEGER PRIMARY KEY,\n",
       "    title TEXT,\n",
       "    release_year INTEGER,\n",
       "    rating FLOAT\n",
       ")''')\n",
       "\n",
       "# Add some fun sample data\n",
       "sample_movies = [\n",
       "    (1, 'The Matrix', 1999, 8.7),\n",
       "    (2, 'Inception', 2010, 8.8),\n",
       "    (3, 'Toy Story', 1995, 8.3),\n",
       "    (4, 'Avatar', 2009, 7.8),\n",
       "    (5, 'The Lion King', 1994, 8.5)\n",
       "]\n",
       "\n",
       "cursor.executemany('INSERT INTO movies VALUES (?,?,?,?)', sample_movies)\n",
       "conn.commit()\n",
       "\n",
       "print(\"Database is ready! Let's start querying!\")"
      ]
     },
     {
      "cell_type": "markdown",
      "metadata": {},
      "source": [
       "## Try your first query! 🎯\n",
       "\n",
       "Let's see what movies we have in our database:"
      ]
     },
     {
      "cell_type": "code",
      "execution_count": null,
      "metadata": {},
      "source": [
       "# This helper function will make our query results look nice\n",
       "def run_query(query):\n",
       "    return pd.read_sql_query(query, conn)\n",
       "\n",
       "# Try it out!\n",
       "run_query('SELECT * FROM movies')"
      ]
     },
     {
      "cell_type": "markdown",
      "metadata": {},
      "source": [
       "## Your turn! 🌟\n",
       "\n",
       "Can you write a query to find all movies released after 2000?"
      ]
     },
     {
      "cell_type": "code",
      "execution_count": null,
      "metadata": {},
      "source": [
       "# Write your query here:\n",
       "query = '''\n",
       "-- Your SQL code here\n",
       "'''\n",
       "\n",
       "run_query(query)"
      ]
     }
    ],
    "metadata": {
     "kernelspec": {
      "display_name": "Python 3",
      "language": "python",
      "name": "python3"
     }
    }
   }
