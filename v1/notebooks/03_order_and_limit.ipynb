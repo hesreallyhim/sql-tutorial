{
 "cells": [
  {
   "cell_type": "markdown",
   "metadata": {},
   "source": [
    "# Fun with SQL: Sorting and Limiting Results 🔄\n",
    "\n",
    "Welcome to your third SQL adventure! Today we'll learn how to:\n",
    "- Sort our results using `ORDER BY`\n",
    "- Limit the number of results using `LIMIT`\n",
    "- Combine these with what we learned before\n",
    "\n",
    "Let's start by connecting to our database:"
   ]
  },
  {
   "cell_type": "code",
   "execution_count": null,
   "metadata": {},
   "source": [
    "import sqlite3\n",
    "import pandas as pd\n",
    "\n",
    "conn = sqlite3.connect('../data/movies.db')\n",
    "pd.set_option('display.max_columns', None)"
   ]
  },
  {
   "cell_type": "markdown",
   "metadata": {},
   "source": [
    "## 🎯 Challenge 1: Sorting Movies by Rating\n",
    "\n",
    "Let's find the highest-rated movies first! We can use `ORDER BY` to sort our results:\n",
    "```sql\n",
    "SELECT title, rating\n",
    "FROM movies\n",
    "ORDER BY rating DESC;  -- DESC means descending (highest to lowest)\n",
    "```\n",
    "\n",
    "💡 Use `ASC` for ascending order (lowest to highest) - this is actually the default if you don't specify!"
   ]
  },
  {
   "cell_type": "code",
   "execution_count": null,
   "metadata": {},
   "source": [
    "query = \"\"\"\n",
    "-- Write your ORDER BY query here\n",
    "\"\"\"\n",
    "\n",
    "pd.read_sql_query(query, conn)"
   ]
  },
  {
   "cell_type": "markdown",
   "metadata": {},
   "source": [
    "## 🎯 Challenge 2: Finding the Top 5 Movies\n",
    "\n",
    "Sometimes we only want to see a few results. The `LIMIT` clause helps us with that:\n",
    "```sql\n",
    "SELECT title, rating\n",
    "FROM movies\n",
    "ORDER BY rating DESC\n",
    "LIMIT 5;\n",
    "```\n",
    "\n",
    "Try finding the 3 most recent movies in our database!"
   ]
  },
  {
   "cell_type": "code",
   "execution_count": null,
   "metadata": {},
   "source": [
    "query = \"\"\"\n",
    "-- Write your query to find recent movies\n",
    "\"\"\"\n",
    "\n",
    "pd.read_sql_query(query, conn)"
   ]
  },
  {
   "cell_type": "markdown",
   "metadata": {},
   "source": [
    "## 🎯 Challenge 3: Multiple Sort Criteria\n",
    "\n",
    "We can sort by multiple columns! This is useful when we want to sort by one thing, then another:\n",
    "```sql\n",
    "SELECT title, release_year, rating\n",
    "FROM movies\n",
    "ORDER BY release_year DESC, rating DESC;\n",
    "```\n",
    "\n",
    "This will sort by year first, then by rating within each year."
   ]
  },
  {
   "cell_type": "code",
   "execution_count": null,
   "metadata": {},
   "source": [
    "query = \"\"\"\n",
    "-- Try writing a query that sorts by genre, then rating\n",
    "\"\"\"\n",
    "\n",
    "pd.read_sql_query(query, conn)"
   ]
  },
  {
   "cell_type": "markdown",
   "metadata": {},
   "source": [
    "## 🌟 Bonus Challenge: Combining Everything\n",
    "\n",
    "Can you write a query that:\n",
    "1. Shows movies released after 2010\n",
    "2. Orders them by rating (highest first)\n",
    "3. Shows only the top 5?\n",
    "\n",
    "Remember the order of clauses matters!\n",
    "```sql\n",
    "SELECT ... FROM ... WHERE ... ORDER BY ... LIMIT ...;\n",
    "```"
   ]
  },
  {
   "cell_type": "code",
   "execution_count": null,
   "metadata": {},
   "source": [
    "query = \"\"\"\n",
    "-- Write your bonus challenge query here!\n",
    "\"\"\"\n",
    "\n",
    "pd.read_sql_query(query, conn)"
   ]
  },
  {
   "cell_type": "markdown",
   "metadata": {},
   "source": [
    "## 🎉 Fantastic work!\n",
    "\n",
    "You've learned how to:\n",
    "- Sort results using `ORDER BY`\n",
    "- Use `ASC` and `DESC` for ascending/descending order\n",
    "- Limit results using `LIMIT`\n",
    "- Sort by multiple columns\n",
    "\n",
    "In the next notebook, we'll learn about joining tables together!"
   ]
  }
 ],
 "metadata": {
  "kernelspec": {
   "display_name": "Python 3",
   "language": "python",
   "name": "python3"
  }
 }
}